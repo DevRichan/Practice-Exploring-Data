{
  "nbformat": 4,
  "nbformat_minor": 0,
  "metadata": {
    "kernelspec": {
      "display_name": "Python 3",
      "language": "python",
      "name": "python3"
    },
    "language_info": {
      "codemirror_mode": {
        "name": "ipython",
        "version": 3
      },
      "file_extension": ".py",
      "mimetype": "text/x-python",
      "name": "python",
      "nbconvert_exporter": "python",
      "pygments_lexer": "ipython3",
      "version": "3.6.2"
    },
    "colab": {
      "name": "(Dataset_tips)_Practice_exploring_data.ipynb",
      "provenance": [],
      "collapsed_sections": [],
      "include_colab_link": true
    }
  },
  "cells": [
    {
      "cell_type": "markdown",
      "metadata": {
        "id": "view-in-github",
        "colab_type": "text"
      },
      "source": [
        "<a href=\"https://colab.research.google.com/github/DevRichan/Practice-Exploring-Data/blob/master/(Dataset_tips)_Practice_exploring_data.ipynb\" target=\"_parent\"><img src=\"https://colab.research.google.com/assets/colab-badge.svg\" alt=\"Open In Colab\"/></a>"
      ]
    },
    {
      "cell_type": "code",
      "metadata": {
        "id": "IiwPWs4pJUmu",
        "colab_type": "code",
        "colab": {}
      },
      "source": [
        "import pandas as pd\n",
        "import seaborn as sns\n",
        "df = sns.load_dataset('tips')"
      ],
      "execution_count": null,
      "outputs": []
    },
    {
      "cell_type": "code",
      "metadata": {
        "id": "cHmXc1kGJUmy",
        "colab_type": "code",
        "colab": {},
        "outputId": "0f719247-10d7-4b51-db5d-9aed76e494c8"
      },
      "source": [
        "df.head(30)"
      ],
      "execution_count": null,
      "outputs": [
        {
          "output_type": "execute_result",
          "data": {
            "text/html": [
              "<div>\n",
              "<style scoped>\n",
              "    .dataframe tbody tr th:only-of-type {\n",
              "        vertical-align: middle;\n",
              "    }\n",
              "\n",
              "    .dataframe tbody tr th {\n",
              "        vertical-align: top;\n",
              "    }\n",
              "\n",
              "    .dataframe thead th {\n",
              "        text-align: right;\n",
              "    }\n",
              "</style>\n",
              "<table border=\"1\" class=\"dataframe\">\n",
              "  <thead>\n",
              "    <tr style=\"text-align: right;\">\n",
              "      <th></th>\n",
              "      <th>total_bill</th>\n",
              "      <th>tip</th>\n",
              "      <th>sex</th>\n",
              "      <th>smoker</th>\n",
              "      <th>day</th>\n",
              "      <th>time</th>\n",
              "      <th>size</th>\n",
              "    </tr>\n",
              "  </thead>\n",
              "  <tbody>\n",
              "    <tr>\n",
              "      <th>0</th>\n",
              "      <td>16.99</td>\n",
              "      <td>1.01</td>\n",
              "      <td>Female</td>\n",
              "      <td>No</td>\n",
              "      <td>Sun</td>\n",
              "      <td>Dinner</td>\n",
              "      <td>2</td>\n",
              "    </tr>\n",
              "    <tr>\n",
              "      <th>1</th>\n",
              "      <td>10.34</td>\n",
              "      <td>1.66</td>\n",
              "      <td>Male</td>\n",
              "      <td>No</td>\n",
              "      <td>Sun</td>\n",
              "      <td>Dinner</td>\n",
              "      <td>3</td>\n",
              "    </tr>\n",
              "    <tr>\n",
              "      <th>2</th>\n",
              "      <td>21.01</td>\n",
              "      <td>3.50</td>\n",
              "      <td>Male</td>\n",
              "      <td>No</td>\n",
              "      <td>Sun</td>\n",
              "      <td>Dinner</td>\n",
              "      <td>3</td>\n",
              "    </tr>\n",
              "    <tr>\n",
              "      <th>3</th>\n",
              "      <td>23.68</td>\n",
              "      <td>3.31</td>\n",
              "      <td>Male</td>\n",
              "      <td>No</td>\n",
              "      <td>Sun</td>\n",
              "      <td>Dinner</td>\n",
              "      <td>2</td>\n",
              "    </tr>\n",
              "    <tr>\n",
              "      <th>4</th>\n",
              "      <td>24.59</td>\n",
              "      <td>3.61</td>\n",
              "      <td>Female</td>\n",
              "      <td>No</td>\n",
              "      <td>Sun</td>\n",
              "      <td>Dinner</td>\n",
              "      <td>4</td>\n",
              "    </tr>\n",
              "    <tr>\n",
              "      <th>5</th>\n",
              "      <td>25.29</td>\n",
              "      <td>4.71</td>\n",
              "      <td>Male</td>\n",
              "      <td>No</td>\n",
              "      <td>Sun</td>\n",
              "      <td>Dinner</td>\n",
              "      <td>4</td>\n",
              "    </tr>\n",
              "    <tr>\n",
              "      <th>6</th>\n",
              "      <td>8.77</td>\n",
              "      <td>2.00</td>\n",
              "      <td>Male</td>\n",
              "      <td>No</td>\n",
              "      <td>Sun</td>\n",
              "      <td>Dinner</td>\n",
              "      <td>2</td>\n",
              "    </tr>\n",
              "    <tr>\n",
              "      <th>7</th>\n",
              "      <td>26.88</td>\n",
              "      <td>3.12</td>\n",
              "      <td>Male</td>\n",
              "      <td>No</td>\n",
              "      <td>Sun</td>\n",
              "      <td>Dinner</td>\n",
              "      <td>4</td>\n",
              "    </tr>\n",
              "    <tr>\n",
              "      <th>8</th>\n",
              "      <td>15.04</td>\n",
              "      <td>1.96</td>\n",
              "      <td>Male</td>\n",
              "      <td>No</td>\n",
              "      <td>Sun</td>\n",
              "      <td>Dinner</td>\n",
              "      <td>2</td>\n",
              "    </tr>\n",
              "    <tr>\n",
              "      <th>9</th>\n",
              "      <td>14.78</td>\n",
              "      <td>3.23</td>\n",
              "      <td>Male</td>\n",
              "      <td>No</td>\n",
              "      <td>Sun</td>\n",
              "      <td>Dinner</td>\n",
              "      <td>2</td>\n",
              "    </tr>\n",
              "    <tr>\n",
              "      <th>10</th>\n",
              "      <td>10.27</td>\n",
              "      <td>1.71</td>\n",
              "      <td>Male</td>\n",
              "      <td>No</td>\n",
              "      <td>Sun</td>\n",
              "      <td>Dinner</td>\n",
              "      <td>2</td>\n",
              "    </tr>\n",
              "    <tr>\n",
              "      <th>11</th>\n",
              "      <td>35.26</td>\n",
              "      <td>5.00</td>\n",
              "      <td>Female</td>\n",
              "      <td>No</td>\n",
              "      <td>Sun</td>\n",
              "      <td>Dinner</td>\n",
              "      <td>4</td>\n",
              "    </tr>\n",
              "    <tr>\n",
              "      <th>12</th>\n",
              "      <td>15.42</td>\n",
              "      <td>1.57</td>\n",
              "      <td>Male</td>\n",
              "      <td>No</td>\n",
              "      <td>Sun</td>\n",
              "      <td>Dinner</td>\n",
              "      <td>2</td>\n",
              "    </tr>\n",
              "    <tr>\n",
              "      <th>13</th>\n",
              "      <td>18.43</td>\n",
              "      <td>3.00</td>\n",
              "      <td>Male</td>\n",
              "      <td>No</td>\n",
              "      <td>Sun</td>\n",
              "      <td>Dinner</td>\n",
              "      <td>4</td>\n",
              "    </tr>\n",
              "    <tr>\n",
              "      <th>14</th>\n",
              "      <td>14.83</td>\n",
              "      <td>3.02</td>\n",
              "      <td>Female</td>\n",
              "      <td>No</td>\n",
              "      <td>Sun</td>\n",
              "      <td>Dinner</td>\n",
              "      <td>2</td>\n",
              "    </tr>\n",
              "    <tr>\n",
              "      <th>15</th>\n",
              "      <td>21.58</td>\n",
              "      <td>3.92</td>\n",
              "      <td>Male</td>\n",
              "      <td>No</td>\n",
              "      <td>Sun</td>\n",
              "      <td>Dinner</td>\n",
              "      <td>2</td>\n",
              "    </tr>\n",
              "    <tr>\n",
              "      <th>16</th>\n",
              "      <td>10.33</td>\n",
              "      <td>1.67</td>\n",
              "      <td>Female</td>\n",
              "      <td>No</td>\n",
              "      <td>Sun</td>\n",
              "      <td>Dinner</td>\n",
              "      <td>3</td>\n",
              "    </tr>\n",
              "    <tr>\n",
              "      <th>17</th>\n",
              "      <td>16.29</td>\n",
              "      <td>3.71</td>\n",
              "      <td>Male</td>\n",
              "      <td>No</td>\n",
              "      <td>Sun</td>\n",
              "      <td>Dinner</td>\n",
              "      <td>3</td>\n",
              "    </tr>\n",
              "    <tr>\n",
              "      <th>18</th>\n",
              "      <td>16.97</td>\n",
              "      <td>3.50</td>\n",
              "      <td>Female</td>\n",
              "      <td>No</td>\n",
              "      <td>Sun</td>\n",
              "      <td>Dinner</td>\n",
              "      <td>3</td>\n",
              "    </tr>\n",
              "    <tr>\n",
              "      <th>19</th>\n",
              "      <td>20.65</td>\n",
              "      <td>3.35</td>\n",
              "      <td>Male</td>\n",
              "      <td>No</td>\n",
              "      <td>Sat</td>\n",
              "      <td>Dinner</td>\n",
              "      <td>3</td>\n",
              "    </tr>\n",
              "    <tr>\n",
              "      <th>20</th>\n",
              "      <td>17.92</td>\n",
              "      <td>4.08</td>\n",
              "      <td>Male</td>\n",
              "      <td>No</td>\n",
              "      <td>Sat</td>\n",
              "      <td>Dinner</td>\n",
              "      <td>2</td>\n",
              "    </tr>\n",
              "    <tr>\n",
              "      <th>21</th>\n",
              "      <td>20.29</td>\n",
              "      <td>2.75</td>\n",
              "      <td>Female</td>\n",
              "      <td>No</td>\n",
              "      <td>Sat</td>\n",
              "      <td>Dinner</td>\n",
              "      <td>2</td>\n",
              "    </tr>\n",
              "    <tr>\n",
              "      <th>22</th>\n",
              "      <td>15.77</td>\n",
              "      <td>2.23</td>\n",
              "      <td>Female</td>\n",
              "      <td>No</td>\n",
              "      <td>Sat</td>\n",
              "      <td>Dinner</td>\n",
              "      <td>2</td>\n",
              "    </tr>\n",
              "    <tr>\n",
              "      <th>23</th>\n",
              "      <td>39.42</td>\n",
              "      <td>7.58</td>\n",
              "      <td>Male</td>\n",
              "      <td>No</td>\n",
              "      <td>Sat</td>\n",
              "      <td>Dinner</td>\n",
              "      <td>4</td>\n",
              "    </tr>\n",
              "    <tr>\n",
              "      <th>24</th>\n",
              "      <td>19.82</td>\n",
              "      <td>3.18</td>\n",
              "      <td>Male</td>\n",
              "      <td>No</td>\n",
              "      <td>Sat</td>\n",
              "      <td>Dinner</td>\n",
              "      <td>2</td>\n",
              "    </tr>\n",
              "    <tr>\n",
              "      <th>25</th>\n",
              "      <td>17.81</td>\n",
              "      <td>2.34</td>\n",
              "      <td>Male</td>\n",
              "      <td>No</td>\n",
              "      <td>Sat</td>\n",
              "      <td>Dinner</td>\n",
              "      <td>4</td>\n",
              "    </tr>\n",
              "    <tr>\n",
              "      <th>26</th>\n",
              "      <td>13.37</td>\n",
              "      <td>2.00</td>\n",
              "      <td>Male</td>\n",
              "      <td>No</td>\n",
              "      <td>Sat</td>\n",
              "      <td>Dinner</td>\n",
              "      <td>2</td>\n",
              "    </tr>\n",
              "    <tr>\n",
              "      <th>27</th>\n",
              "      <td>12.69</td>\n",
              "      <td>2.00</td>\n",
              "      <td>Male</td>\n",
              "      <td>No</td>\n",
              "      <td>Sat</td>\n",
              "      <td>Dinner</td>\n",
              "      <td>2</td>\n",
              "    </tr>\n",
              "    <tr>\n",
              "      <th>28</th>\n",
              "      <td>21.70</td>\n",
              "      <td>4.30</td>\n",
              "      <td>Male</td>\n",
              "      <td>No</td>\n",
              "      <td>Sat</td>\n",
              "      <td>Dinner</td>\n",
              "      <td>2</td>\n",
              "    </tr>\n",
              "    <tr>\n",
              "      <th>29</th>\n",
              "      <td>19.65</td>\n",
              "      <td>3.00</td>\n",
              "      <td>Female</td>\n",
              "      <td>No</td>\n",
              "      <td>Sat</td>\n",
              "      <td>Dinner</td>\n",
              "      <td>2</td>\n",
              "    </tr>\n",
              "  </tbody>\n",
              "</table>\n",
              "</div>"
            ],
            "text/plain": [
              "    total_bill   tip     sex smoker  day    time  size\n",
              "0        16.99  1.01  Female     No  Sun  Dinner     2\n",
              "1        10.34  1.66    Male     No  Sun  Dinner     3\n",
              "2        21.01  3.50    Male     No  Sun  Dinner     3\n",
              "3        23.68  3.31    Male     No  Sun  Dinner     2\n",
              "4        24.59  3.61  Female     No  Sun  Dinner     4\n",
              "5        25.29  4.71    Male     No  Sun  Dinner     4\n",
              "6         8.77  2.00    Male     No  Sun  Dinner     2\n",
              "7        26.88  3.12    Male     No  Sun  Dinner     4\n",
              "8        15.04  1.96    Male     No  Sun  Dinner     2\n",
              "9        14.78  3.23    Male     No  Sun  Dinner     2\n",
              "10       10.27  1.71    Male     No  Sun  Dinner     2\n",
              "11       35.26  5.00  Female     No  Sun  Dinner     4\n",
              "12       15.42  1.57    Male     No  Sun  Dinner     2\n",
              "13       18.43  3.00    Male     No  Sun  Dinner     4\n",
              "14       14.83  3.02  Female     No  Sun  Dinner     2\n",
              "15       21.58  3.92    Male     No  Sun  Dinner     2\n",
              "16       10.33  1.67  Female     No  Sun  Dinner     3\n",
              "17       16.29  3.71    Male     No  Sun  Dinner     3\n",
              "18       16.97  3.50  Female     No  Sun  Dinner     3\n",
              "19       20.65  3.35    Male     No  Sat  Dinner     3\n",
              "20       17.92  4.08    Male     No  Sat  Dinner     2\n",
              "21       20.29  2.75  Female     No  Sat  Dinner     2\n",
              "22       15.77  2.23  Female     No  Sat  Dinner     2\n",
              "23       39.42  7.58    Male     No  Sat  Dinner     4\n",
              "24       19.82  3.18    Male     No  Sat  Dinner     2\n",
              "25       17.81  2.34    Male     No  Sat  Dinner     4\n",
              "26       13.37  2.00    Male     No  Sat  Dinner     2\n",
              "27       12.69  2.00    Male     No  Sat  Dinner     2\n",
              "28       21.70  4.30    Male     No  Sat  Dinner     2\n",
              "29       19.65  3.00  Female     No  Sat  Dinner     2"
            ]
          },
          "metadata": {
            "tags": []
          },
          "execution_count": 129
        }
      ]
    },
    {
      "cell_type": "code",
      "metadata": {
        "id": "8LaLihr7JUm2",
        "colab_type": "code",
        "colab": {},
        "outputId": "136d0b6b-9538-4803-e951-0fa28f58768d"
      },
      "source": [
        "df.info()"
      ],
      "execution_count": null,
      "outputs": [
        {
          "output_type": "stream",
          "text": [
            "<class 'pandas.core.frame.DataFrame'>\n",
            "RangeIndex: 244 entries, 0 to 243\n",
            "Data columns (total 7 columns):\n",
            "total_bill    244 non-null float64\n",
            "tip           244 non-null float64\n",
            "sex           244 non-null category\n",
            "smoker        244 non-null category\n",
            "day           244 non-null category\n",
            "time          244 non-null category\n",
            "size          244 non-null int64\n",
            "dtypes: category(4), float64(2), int64(1)\n",
            "memory usage: 7.2 KB\n"
          ],
          "name": "stdout"
        }
      ]
    },
    {
      "cell_type": "markdown",
      "metadata": {
        "id": "JPN9Kb1HJUm5",
        "colab_type": "text"
      },
      "source": [
        "### Question 1 :\n",
        "- Men and women who smoke\n",
        "- Men and women who don't smoke"
      ]
    },
    {
      "cell_type": "markdown",
      "metadata": {
        "id": "8eWBahHoJUm5",
        "colab_type": "text"
      },
      "source": [
        "1. Assumption 1\n",
        "\n",
        "I assume that the number of customers present is based on the number in the gender column"
      ]
    },
    {
      "cell_type": "markdown",
      "metadata": {
        "id": "wtBGDZL7JUm6",
        "colab_type": "text"
      },
      "source": [
        "- men and women who smoke (Assumption 1)"
      ]
    },
    {
      "cell_type": "code",
      "metadata": {
        "id": "x2wOo7OMJUm6",
        "colab_type": "code",
        "colab": {},
        "outputId": "a23cdf32-3d39-44d2-8b54-a698140cb9cd"
      },
      "source": [
        "male_yes = df[(df['sex'] == 'Male') & (df['smoker'] =='Yes')]\n",
        "print(male_yes)\n",
        "print('The number of men who smoke = ',len(male_yes))"
      ],
      "execution_count": null,
      "outputs": [
        {
          "output_type": "stream",
          "text": [
            "     total_bill    tip   sex smoker   day    time  size\n",
            "56        38.01   3.00  Male    Yes   Sat  Dinner     4\n",
            "58        11.24   1.76  Male    Yes   Sat  Dinner     2\n",
            "60        20.29   3.21  Male    Yes   Sat  Dinner     2\n",
            "61        13.81   2.00  Male    Yes   Sat  Dinner     2\n",
            "62        11.02   1.98  Male    Yes   Sat  Dinner     2\n",
            "63        18.29   3.76  Male    Yes   Sat  Dinner     4\n",
            "69        15.01   2.09  Male    Yes   Sat  Dinner     2\n",
            "76        17.92   3.08  Male    Yes   Sat  Dinner     2\n",
            "80        19.44   3.00  Male    Yes  Thur   Lunch     2\n",
            "83        32.68   5.00  Male    Yes  Thur   Lunch     2\n",
            "90        28.97   3.00  Male    Yes   Fri  Dinner     2\n",
            "95        40.17   4.73  Male    Yes   Fri  Dinner     4\n",
            "96        27.28   4.00  Male    Yes   Fri  Dinner     2\n",
            "97        12.03   1.50  Male    Yes   Fri  Dinner     2\n",
            "98        21.01   3.00  Male    Yes   Fri  Dinner     2\n",
            "105       15.36   1.64  Male    Yes   Sat  Dinner     2\n",
            "106       20.49   4.06  Male    Yes   Sat  Dinner     2\n",
            "107       25.21   4.29  Male    Yes   Sat  Dinner     2\n",
            "138       16.00   2.00  Male    Yes  Thur   Lunch     2\n",
            "170       50.81  10.00  Male    Yes   Sat  Dinner     3\n",
            "171       15.81   3.16  Male    Yes   Sat  Dinner     2\n",
            "172        7.25   5.15  Male    Yes   Sun  Dinner     2\n",
            "173       31.85   3.18  Male    Yes   Sun  Dinner     2\n",
            "174       16.82   4.00  Male    Yes   Sun  Dinner     2\n",
            "175       32.90   3.11  Male    Yes   Sun  Dinner     2\n",
            "176       17.89   2.00  Male    Yes   Sun  Dinner     2\n",
            "177       14.48   2.00  Male    Yes   Sun  Dinner     2\n",
            "179       34.63   3.55  Male    Yes   Sun  Dinner     2\n",
            "180       34.65   3.68  Male    Yes   Sun  Dinner     4\n",
            "181       23.33   5.65  Male    Yes   Sun  Dinner     2\n",
            "182       45.35   3.50  Male    Yes   Sun  Dinner     3\n",
            "183       23.17   6.50  Male    Yes   Sun  Dinner     4\n",
            "184       40.55   3.00  Male    Yes   Sun  Dinner     2\n",
            "187       30.46   2.00  Male    Yes   Sun  Dinner     5\n",
            "189       23.10   4.00  Male    Yes   Sun  Dinner     3\n",
            "190       15.69   1.50  Male    Yes   Sun  Dinner     2\n",
            "192       28.44   2.56  Male    Yes  Thur   Lunch     2\n",
            "193       15.48   2.02  Male    Yes  Thur   Lunch     2\n",
            "194       16.58   4.00  Male    Yes  Thur   Lunch     2\n",
            "196       10.34   2.00  Male    Yes  Thur   Lunch     2\n",
            "199       13.51   2.00  Male    Yes  Thur   Lunch     2\n",
            "200       18.71   4.00  Male    Yes  Thur   Lunch     3\n",
            "204       20.53   4.00  Male    Yes  Thur   Lunch     4\n",
            "206       26.59   3.41  Male    Yes   Sat  Dinner     3\n",
            "207       38.73   3.00  Male    Yes   Sat  Dinner     4\n",
            "208       24.27   2.03  Male    Yes   Sat  Dinner     2\n",
            "210       30.06   2.00  Male    Yes   Sat  Dinner     3\n",
            "211       25.89   5.16  Male    Yes   Sat  Dinner     4\n",
            "216       28.15   3.00  Male    Yes   Sat  Dinner     5\n",
            "217       11.59   1.50  Male    Yes   Sat  Dinner     2\n",
            "218        7.74   1.44  Male    Yes   Sat  Dinner     2\n",
            "220       12.16   2.20  Male    Yes   Fri   Lunch     2\n",
            "222        8.58   1.92  Male    Yes   Fri   Lunch     1\n",
            "224       13.42   1.58  Male    Yes   Fri   Lunch     2\n",
            "230       24.01   2.00  Male    Yes   Sat  Dinner     4\n",
            "231       15.69   3.00  Male    Yes   Sat  Dinner     3\n",
            "234       15.53   3.00  Male    Yes   Sat  Dinner     2\n",
            "236       12.60   1.00  Male    Yes   Sat  Dinner     2\n",
            "237       32.83   1.17  Male    Yes   Sat  Dinner     2\n",
            "241       22.67   2.00  Male    Yes   Sat  Dinner     2\n",
            "The number of men who smoke =  60\n"
          ],
          "name": "stdout"
        }
      ]
    },
    {
      "cell_type": "code",
      "metadata": {
        "id": "PR2ijToDJUm9",
        "colab_type": "code",
        "colab": {},
        "outputId": "96e27c66-a8a4-448c-fc14-6ebb98c670af"
      },
      "source": [
        "female_yes = df[(df['sex'] == 'Female') & (df['smoker'] =='Yes')]\n",
        "print(female_yes)\n",
        "print('The number of woman who smoke = ',len(female_yes))"
      ],
      "execution_count": null,
      "outputs": [
        {
          "output_type": "stream",
          "text": [
            "     total_bill   tip     sex smoker   day    time  size\n",
            "67         3.07  1.00  Female    Yes   Sat  Dinner     1\n",
            "72        26.86  3.14  Female    Yes   Sat  Dinner     2\n",
            "73        25.28  5.00  Female    Yes   Sat  Dinner     2\n",
            "92         5.75  1.00  Female    Yes   Fri  Dinner     2\n",
            "93        16.32  4.30  Female    Yes   Fri  Dinner     2\n",
            "100       11.35  2.50  Female    Yes   Fri  Dinner     2\n",
            "101       15.38  3.00  Female    Yes   Fri  Dinner     2\n",
            "102       44.30  2.50  Female    Yes   Sat  Dinner     3\n",
            "103       22.42  3.48  Female    Yes   Sat  Dinner     2\n",
            "109       14.31  4.00  Female    Yes   Sat  Dinner     2\n",
            "164       17.51  3.00  Female    Yes   Sun  Dinner     2\n",
            "168       10.59  1.61  Female    Yes   Sat  Dinner     2\n",
            "169       10.63  2.00  Female    Yes   Sat  Dinner     2\n",
            "178        9.60  4.00  Female    Yes   Sun  Dinner     2\n",
            "186       20.90  3.50  Female    Yes   Sun  Dinner     3\n",
            "188       18.15  3.50  Female    Yes   Sun  Dinner     3\n",
            "191       19.81  4.19  Female    Yes  Thur   Lunch     2\n",
            "197       43.11  5.00  Female    Yes  Thur   Lunch     4\n",
            "198       13.00  2.00  Female    Yes  Thur   Lunch     2\n",
            "201       12.74  2.01  Female    Yes  Thur   Lunch     2\n",
            "202       13.00  2.00  Female    Yes  Thur   Lunch     2\n",
            "203       16.40  2.50  Female    Yes  Thur   Lunch     2\n",
            "205       16.47  3.23  Female    Yes  Thur   Lunch     3\n",
            "209       12.76  2.23  Female    Yes   Sat  Dinner     2\n",
            "213       13.27  2.50  Female    Yes   Sat  Dinner     2\n",
            "214       28.17  6.50  Female    Yes   Sat  Dinner     3\n",
            "215       12.90  1.10  Female    Yes   Sat  Dinner     2\n",
            "219       30.14  3.09  Female    Yes   Sat  Dinner     4\n",
            "221       13.42  3.48  Female    Yes   Fri   Lunch     2\n",
            "225       16.27  2.50  Female    Yes   Fri   Lunch     2\n",
            "226       10.09  2.00  Female    Yes   Fri   Lunch     2\n",
            "229       22.12  2.88  Female    Yes   Sat  Dinner     2\n",
            "240       27.18  2.00  Female    Yes   Sat  Dinner     2\n",
            "The number of woman who smoke =  33\n"
          ],
          "name": "stdout"
        }
      ]
    },
    {
      "cell_type": "markdown",
      "metadata": {
        "id": "ODHWecglJUnA",
        "colab_type": "text"
      },
      "source": [
        "- men and women who don't smoke (Assumption 1)"
      ]
    },
    {
      "cell_type": "code",
      "metadata": {
        "id": "XgX3fndqJUnB",
        "colab_type": "code",
        "colab": {},
        "outputId": "fab62193-8fc5-4084-c803-3398f337df9c"
      },
      "source": [
        "male = df[(df['sex'] == 'Male') & (df['smoker'] == 'No')]\n",
        "print(male)\n",
        "print('The number of men who dont smoke = ',len(male))"
      ],
      "execution_count": null,
      "outputs": [
        {
          "output_type": "stream",
          "text": [
            "     total_bill   tip   sex smoker   day    time  size\n",
            "1         10.34  1.66  Male     No   Sun  Dinner     3\n",
            "2         21.01  3.50  Male     No   Sun  Dinner     3\n",
            "3         23.68  3.31  Male     No   Sun  Dinner     2\n",
            "5         25.29  4.71  Male     No   Sun  Dinner     4\n",
            "6          8.77  2.00  Male     No   Sun  Dinner     2\n",
            "7         26.88  3.12  Male     No   Sun  Dinner     4\n",
            "8         15.04  1.96  Male     No   Sun  Dinner     2\n",
            "9         14.78  3.23  Male     No   Sun  Dinner     2\n",
            "10        10.27  1.71  Male     No   Sun  Dinner     2\n",
            "12        15.42  1.57  Male     No   Sun  Dinner     2\n",
            "13        18.43  3.00  Male     No   Sun  Dinner     4\n",
            "15        21.58  3.92  Male     No   Sun  Dinner     2\n",
            "17        16.29  3.71  Male     No   Sun  Dinner     3\n",
            "19        20.65  3.35  Male     No   Sat  Dinner     3\n",
            "20        17.92  4.08  Male     No   Sat  Dinner     2\n",
            "23        39.42  7.58  Male     No   Sat  Dinner     4\n",
            "24        19.82  3.18  Male     No   Sat  Dinner     2\n",
            "25        17.81  2.34  Male     No   Sat  Dinner     4\n",
            "26        13.37  2.00  Male     No   Sat  Dinner     2\n",
            "27        12.69  2.00  Male     No   Sat  Dinner     2\n",
            "28        21.70  4.30  Male     No   Sat  Dinner     2\n",
            "30         9.55  1.45  Male     No   Sat  Dinner     2\n",
            "31        18.35  2.50  Male     No   Sat  Dinner     4\n",
            "34        17.78  3.27  Male     No   Sat  Dinner     2\n",
            "35        24.06  3.60  Male     No   Sat  Dinner     3\n",
            "36        16.31  2.00  Male     No   Sat  Dinner     3\n",
            "38        18.69  2.31  Male     No   Sat  Dinner     3\n",
            "39        31.27  5.00  Male     No   Sat  Dinner     3\n",
            "40        16.04  2.24  Male     No   Sat  Dinner     3\n",
            "41        17.46  2.54  Male     No   Sun  Dinner     2\n",
            "..          ...   ...   ...    ...   ...     ...   ...\n",
            "126        8.52  1.48  Male     No  Thur   Lunch     2\n",
            "129       22.82  2.18  Male     No  Thur   Lunch     3\n",
            "130       19.08  1.50  Male     No  Thur   Lunch     2\n",
            "141       34.30  6.70  Male     No  Thur   Lunch     6\n",
            "142       41.19  5.00  Male     No  Thur   Lunch     5\n",
            "148        9.78  1.73  Male     No  Thur   Lunch     2\n",
            "149        7.51  2.00  Male     No  Thur   Lunch     2\n",
            "150       14.07  2.50  Male     No   Sun  Dinner     2\n",
            "151       13.13  2.00  Male     No   Sun  Dinner     2\n",
            "152       17.26  2.74  Male     No   Sun  Dinner     3\n",
            "153       24.55  2.00  Male     No   Sun  Dinner     4\n",
            "154       19.77  2.00  Male     No   Sun  Dinner     4\n",
            "156       48.17  5.00  Male     No   Sun  Dinner     6\n",
            "159       16.49  2.00  Male     No   Sun  Dinner     4\n",
            "160       21.50  3.50  Male     No   Sun  Dinner     4\n",
            "161       12.66  2.50  Male     No   Sun  Dinner     2\n",
            "163       13.81  2.00  Male     No   Sun  Dinner     2\n",
            "165       24.52  3.48  Male     No   Sun  Dinner     3\n",
            "166       20.76  2.24  Male     No   Sun  Dinner     2\n",
            "167       31.71  4.50  Male     No   Sun  Dinner     4\n",
            "185       20.69  5.00  Male     No   Sun  Dinner     5\n",
            "195        7.56  1.44  Male     No  Thur   Lunch     2\n",
            "212       48.33  9.00  Male     No   Sat  Dinner     4\n",
            "227       20.45  3.00  Male     No   Sat  Dinner     4\n",
            "228       13.28  2.72  Male     No   Sat  Dinner     2\n",
            "232       11.61  3.39  Male     No   Sat  Dinner     2\n",
            "233       10.77  1.47  Male     No   Sat  Dinner     2\n",
            "235       10.07  1.25  Male     No   Sat  Dinner     2\n",
            "239       29.03  5.92  Male     No   Sat  Dinner     3\n",
            "242       17.82  1.75  Male     No   Sat  Dinner     2\n",
            "\n",
            "[97 rows x 7 columns]\n",
            "The number of men who dont smoke =  97\n"
          ],
          "name": "stdout"
        }
      ]
    },
    {
      "cell_type": "code",
      "metadata": {
        "id": "OgRsNNt7JUnE",
        "colab_type": "code",
        "colab": {},
        "outputId": "5a670e0d-af35-4bac-eb32-5e433070dcd8"
      },
      "source": [
        "female = df[(df['sex'] == 'Female') & (df['smoker'] == 'No')]\n",
        "print(female)\n",
        "print('The number of men who dont smoke = ',len(female))"
      ],
      "execution_count": null,
      "outputs": [
        {
          "output_type": "stream",
          "text": [
            "     total_bill   tip     sex smoker   day    time  size\n",
            "0         16.99  1.01  Female     No   Sun  Dinner     2\n",
            "4         24.59  3.61  Female     No   Sun  Dinner     4\n",
            "11        35.26  5.00  Female     No   Sun  Dinner     4\n",
            "14        14.83  3.02  Female     No   Sun  Dinner     2\n",
            "16        10.33  1.67  Female     No   Sun  Dinner     3\n",
            "18        16.97  3.50  Female     No   Sun  Dinner     3\n",
            "21        20.29  2.75  Female     No   Sat  Dinner     2\n",
            "22        15.77  2.23  Female     No   Sat  Dinner     2\n",
            "29        19.65  3.00  Female     No   Sat  Dinner     2\n",
            "32        15.06  3.00  Female     No   Sat  Dinner     2\n",
            "33        20.69  2.45  Female     No   Sat  Dinner     4\n",
            "37        16.93  3.07  Female     No   Sat  Dinner     3\n",
            "51        10.29  2.60  Female     No   Sun  Dinner     2\n",
            "52        34.81  5.20  Female     No   Sun  Dinner     4\n",
            "57        26.41  1.50  Female     No   Sat  Dinner     2\n",
            "66        16.45  2.47  Female     No   Sat  Dinner     2\n",
            "71        17.07  3.00  Female     No   Sat  Dinner     3\n",
            "74        14.73  2.20  Female     No   Sat  Dinner     2\n",
            "82        10.07  1.83  Female     No  Thur   Lunch     1\n",
            "85        34.83  5.17  Female     No  Thur   Lunch     4\n",
            "94        22.75  3.25  Female     No   Fri  Dinner     2\n",
            "104       20.92  4.08  Female     No   Sat  Dinner     2\n",
            "111        7.25  1.00  Female     No   Sat  Dinner     1\n",
            "114       25.71  4.00  Female     No   Sun  Dinner     3\n",
            "115       17.31  3.50  Female     No   Sun  Dinner     2\n",
            "117       10.65  1.50  Female     No  Thur   Lunch     2\n",
            "118       12.43  1.80  Female     No  Thur   Lunch     2\n",
            "119       24.08  2.92  Female     No  Thur   Lunch     4\n",
            "121       13.42  1.68  Female     No  Thur   Lunch     2\n",
            "124       12.48  2.52  Female     No  Thur   Lunch     2\n",
            "125       29.80  4.20  Female     No  Thur   Lunch     6\n",
            "127       14.52  2.00  Female     No  Thur   Lunch     2\n",
            "128       11.38  2.00  Female     No  Thur   Lunch     2\n",
            "131       20.27  2.83  Female     No  Thur   Lunch     2\n",
            "132       11.17  1.50  Female     No  Thur   Lunch     2\n",
            "133       12.26  2.00  Female     No  Thur   Lunch     2\n",
            "134       18.26  3.25  Female     No  Thur   Lunch     2\n",
            "135        8.51  1.25  Female     No  Thur   Lunch     2\n",
            "136       10.33  2.00  Female     No  Thur   Lunch     2\n",
            "137       14.15  2.00  Female     No  Thur   Lunch     2\n",
            "139       13.16  2.75  Female     No  Thur   Lunch     2\n",
            "140       17.47  3.50  Female     No  Thur   Lunch     2\n",
            "143       27.05  5.00  Female     No  Thur   Lunch     6\n",
            "144       16.43  2.30  Female     No  Thur   Lunch     2\n",
            "145        8.35  1.50  Female     No  Thur   Lunch     2\n",
            "146       18.64  1.36  Female     No  Thur   Lunch     3\n",
            "147       11.87  1.63  Female     No  Thur   Lunch     2\n",
            "155       29.85  5.14  Female     No   Sun  Dinner     5\n",
            "157       25.00  3.75  Female     No   Sun  Dinner     4\n",
            "158       13.39  2.61  Female     No   Sun  Dinner     2\n",
            "162       16.21  2.00  Female     No   Sun  Dinner     3\n",
            "223       15.98  3.00  Female     No   Fri   Lunch     3\n",
            "238       35.83  4.67  Female     No   Sat  Dinner     3\n",
            "243       18.78  3.00  Female     No  Thur  Dinner     2\n",
            "The number of men who dont smoke =  54\n"
          ],
          "name": "stdout"
        }
      ]
    },
    {
      "cell_type": "markdown",
      "metadata": {
        "id": "8t-2FR1rJUnH",
        "colab_type": "text"
      },
      "source": [
        "2. Assumption 2\n",
        "\n",
        "I assume that the column size is the number of them in one table"
      ]
    },
    {
      "cell_type": "markdown",
      "metadata": {
        "id": "-pSb8Dv2JUnI",
        "colab_type": "text"
      },
      "source": [
        "- Men and women who smoke Assumption 2"
      ]
    },
    {
      "cell_type": "code",
      "metadata": {
        "id": "uI3_Dz-tJUnI",
        "colab_type": "code",
        "colab": {},
        "outputId": "6b81c5a1-4df2-40b3-b5b2-608d90328424"
      },
      "source": [
        "female_yes_2 = df[(df['sex'] == 'Female') & (df['smoker'] == 'Yes')]['size']\n",
        "print(female_yes_2)\n",
        "print('The number of women who smoke = ',female_yes_2.sum())"
      ],
      "execution_count": null,
      "outputs": [
        {
          "output_type": "stream",
          "text": [
            "67     1\n",
            "72     2\n",
            "73     2\n",
            "92     2\n",
            "93     2\n",
            "100    2\n",
            "101    2\n",
            "102    3\n",
            "103    2\n",
            "109    2\n",
            "164    2\n",
            "168    2\n",
            "169    2\n",
            "178    2\n",
            "186    3\n",
            "188    3\n",
            "191    2\n",
            "197    4\n",
            "198    2\n",
            "201    2\n",
            "202    2\n",
            "203    2\n",
            "205    3\n",
            "209    2\n",
            "213    2\n",
            "214    3\n",
            "215    2\n",
            "219    4\n",
            "221    2\n",
            "225    2\n",
            "226    2\n",
            "229    2\n",
            "240    2\n",
            "Name: size, dtype: int64\n",
            "The number of women who smoke =  74\n"
          ],
          "name": "stdout"
        }
      ]
    },
    {
      "cell_type": "code",
      "metadata": {
        "id": "eSwCZnC6JUnM",
        "colab_type": "code",
        "colab": {},
        "outputId": "76610541-ab93-4ca2-e38c-76742ee8d61c"
      },
      "source": [
        "male_yes_2 = df[(df['sex'] == 'Male') & (df['smoker'] == 'Yes')]['size']\n",
        "print(male_yes_2)\n",
        "print('The number of women who smoke = ',male_yes_2.sum())"
      ],
      "execution_count": null,
      "outputs": [
        {
          "output_type": "stream",
          "text": [
            "56     4\n",
            "58     2\n",
            "60     2\n",
            "61     2\n",
            "62     2\n",
            "63     4\n",
            "69     2\n",
            "76     2\n",
            "80     2\n",
            "83     2\n",
            "90     2\n",
            "95     4\n",
            "96     2\n",
            "97     2\n",
            "98     2\n",
            "105    2\n",
            "106    2\n",
            "107    2\n",
            "138    2\n",
            "170    3\n",
            "171    2\n",
            "172    2\n",
            "173    2\n",
            "174    2\n",
            "175    2\n",
            "176    2\n",
            "177    2\n",
            "179    2\n",
            "180    4\n",
            "181    2\n",
            "182    3\n",
            "183    4\n",
            "184    2\n",
            "187    5\n",
            "189    3\n",
            "190    2\n",
            "192    2\n",
            "193    2\n",
            "194    2\n",
            "196    2\n",
            "199    2\n",
            "200    3\n",
            "204    4\n",
            "206    3\n",
            "207    4\n",
            "208    2\n",
            "210    3\n",
            "211    4\n",
            "216    5\n",
            "217    2\n",
            "218    2\n",
            "220    2\n",
            "222    1\n",
            "224    2\n",
            "230    4\n",
            "231    3\n",
            "234    2\n",
            "236    2\n",
            "237    2\n",
            "241    2\n",
            "Name: size, dtype: int64\n",
            "The number of women who smoke =  150\n"
          ],
          "name": "stdout"
        }
      ]
    },
    {
      "cell_type": "markdown",
      "metadata": {
        "id": "_3nd_TRYJUnR",
        "colab_type": "text"
      },
      "source": [
        "- Men and women who don't smoke Assumption 2"
      ]
    },
    {
      "cell_type": "code",
      "metadata": {
        "id": "rmi_f3LgJUnS",
        "colab_type": "code",
        "colab": {},
        "outputId": "51ae84bb-de26-41d4-aaba-136974c0e9e7"
      },
      "source": [
        "male_no = df[(df['sex'] == 'Male') & (df['smoker'] == 'No')]['size']\n",
        "print(male_no)\n",
        "print('The number of women who dont smoke = ',male_no.sum())"
      ],
      "execution_count": null,
      "outputs": [
        {
          "output_type": "stream",
          "text": [
            "1      3\n",
            "2      3\n",
            "3      2\n",
            "5      4\n",
            "6      2\n",
            "7      4\n",
            "8      2\n",
            "9      2\n",
            "10     2\n",
            "12     2\n",
            "13     4\n",
            "15     2\n",
            "17     3\n",
            "19     3\n",
            "20     2\n",
            "23     4\n",
            "24     2\n",
            "25     4\n",
            "26     2\n",
            "27     2\n",
            "28     2\n",
            "30     2\n",
            "31     4\n",
            "34     2\n",
            "35     3\n",
            "36     3\n",
            "38     3\n",
            "39     3\n",
            "40     3\n",
            "41     2\n",
            "      ..\n",
            "126    2\n",
            "129    3\n",
            "130    2\n",
            "141    6\n",
            "142    5\n",
            "148    2\n",
            "149    2\n",
            "150    2\n",
            "151    2\n",
            "152    3\n",
            "153    4\n",
            "154    4\n",
            "156    6\n",
            "159    4\n",
            "160    4\n",
            "161    2\n",
            "163    2\n",
            "165    3\n",
            "166    2\n",
            "167    4\n",
            "185    5\n",
            "195    2\n",
            "212    4\n",
            "227    4\n",
            "228    2\n",
            "232    2\n",
            "233    2\n",
            "235    2\n",
            "239    3\n",
            "242    2\n",
            "Name: size, Length: 97, dtype: int64\n",
            "The number of women who dont smoke =  263\n"
          ],
          "name": "stdout"
        }
      ]
    },
    {
      "cell_type": "code",
      "metadata": {
        "id": "ZNC1BBBNJUnW",
        "colab_type": "code",
        "colab": {},
        "outputId": "e29793d2-dda8-4d93-8857-807b17efb45a"
      },
      "source": [
        "female_no = df[(df['sex'] == 'Female') & (df['smoker'] == 'No')]['size']\n",
        "print(female_no)\n",
        "print('The number of women who dont smoke = ',female_no.sum())"
      ],
      "execution_count": null,
      "outputs": [
        {
          "output_type": "stream",
          "text": [
            "0      2\n",
            "4      4\n",
            "11     4\n",
            "14     2\n",
            "16     3\n",
            "18     3\n",
            "21     2\n",
            "22     2\n",
            "29     2\n",
            "32     2\n",
            "33     4\n",
            "37     3\n",
            "51     2\n",
            "52     4\n",
            "57     2\n",
            "66     2\n",
            "71     3\n",
            "74     2\n",
            "82     1\n",
            "85     4\n",
            "94     2\n",
            "104    2\n",
            "111    1\n",
            "114    3\n",
            "115    2\n",
            "117    2\n",
            "118    2\n",
            "119    4\n",
            "121    2\n",
            "124    2\n",
            "125    6\n",
            "127    2\n",
            "128    2\n",
            "131    2\n",
            "132    2\n",
            "133    2\n",
            "134    2\n",
            "135    2\n",
            "136    2\n",
            "137    2\n",
            "139    2\n",
            "140    2\n",
            "143    6\n",
            "144    2\n",
            "145    2\n",
            "146    3\n",
            "147    2\n",
            "155    5\n",
            "157    4\n",
            "158    2\n",
            "162    3\n",
            "223    3\n",
            "238    3\n",
            "243    2\n",
            "Name: size, dtype: int64\n",
            "The number of women who dont smoke =  140\n"
          ],
          "name": "stdout"
        }
      ]
    },
    {
      "cell_type": "markdown",
      "metadata": {
        "id": "iryJx9fXJUna",
        "colab_type": "text"
      },
      "source": [
        "### Question 2 :\n",
        "- Average/mean tip of the men and woman who smoke\n"
      ]
    },
    {
      "cell_type": "code",
      "metadata": {
        "id": "sXBEsILjJUna",
        "colab_type": "code",
        "colab": {},
        "outputId": "7629ddc3-da58-4990-aac4-46ea923cbfa9"
      },
      "source": [
        "tip_male = df[(df['sex'] == 'Male') & (df['smoker']=='Yes')]['tip'].mean()\n",
        "print('A tip from average/mean man who smoke is = ',round(tip_male,2))"
      ],
      "execution_count": null,
      "outputs": [
        {
          "output_type": "stream",
          "text": [
            "A tip from average/mean man who smoke is =  3.05\n"
          ],
          "name": "stdout"
        }
      ]
    },
    {
      "cell_type": "code",
      "metadata": {
        "id": "9E0JI_fbJUnd",
        "colab_type": "code",
        "colab": {},
        "outputId": "a663e011-edb8-4c8e-b351-0fa23fdbccb9"
      },
      "source": [
        "tip_female = df[(df['sex'] == 'Female') & (df['smoker'] == 'Yes')]['tip'].mean()\n",
        "print('A tip from average/mean man who smoke is =' ,round(tip_female,2))"
      ],
      "execution_count": null,
      "outputs": [
        {
          "output_type": "stream",
          "text": [
            "A tip from average/mean man who smoke is = 2.93\n"
          ],
          "name": "stdout"
        }
      ]
    },
    {
      "cell_type": "code",
      "metadata": {
        "id": "ilOzjOItJUnh",
        "colab_type": "code",
        "colab": {},
        "outputId": "1c901161-2ed1-46b7-efb5-09da712bf37f"
      },
      "source": [
        "# Other solution\n",
        "\n",
        "sex = df['sex'].values\n",
        "smoker = df['smoker'].values\n",
        "tip = df['tip'].values\n",
        "join = zip(sex,smoker,tip)\n",
        "\n",
        "jml_male = 0\n",
        "count_male = 0\n",
        "jml_female = 0\n",
        "count_female = 0\n",
        "for s,t,j in join:\n",
        "    if (s == 'Male') & (t=='Yes'):\n",
        "        jml_male+=j\n",
        "        count_male+=1\n",
        "    elif (s == 'Female') & (t=='Yes'):\n",
        "        jml_female+=j\n",
        "        count_female+=1\n",
        "        \n",
        "print('A tip from average/mean man who smoke is = ',round(jml_male/count_male,2))\n",
        "print('A tip from average/mean man who smoke is =' ,round(jml_female/count_female,2))"
      ],
      "execution_count": null,
      "outputs": [
        {
          "output_type": "stream",
          "text": [
            "A tip from average/mean man who smoke is =  3.05\n",
            "A tip from average/mean man who smoke is = 2.93\n"
          ],
          "name": "stdout"
        }
      ]
    },
    {
      "cell_type": "markdown",
      "metadata": {
        "id": "LXJbEVdfJUnk",
        "colab_type": "text"
      },
      "source": [
        "### Question 3 :\n",
        "- The day with the most lunch\n",
        "- The day with the most dinner"
      ]
    },
    {
      "cell_type": "markdown",
      "metadata": {
        "id": "HPEA19G9JUnl",
        "colab_type": "text"
      },
      "source": [
        "1. I assume that this data is weekly, and the number of subscribers is calculated from the number of occurrences of the day in the day column"
      ]
    },
    {
      "cell_type": "code",
      "metadata": {
        "id": "72SUhWz8JUnl",
        "colab_type": "code",
        "colab": {},
        "outputId": "74fa0845-297e-4060-90ca-fb9274fed5a6"
      },
      "source": [
        "df['day'].unique()"
      ],
      "execution_count": null,
      "outputs": [
        {
          "output_type": "execute_result",
          "data": {
            "text/plain": [
              "[Sun, Sat, Thur, Fri]\n",
              "Categories (4, object): [Sun, Sat, Thur, Fri]"
            ]
          },
          "metadata": {
            "tags": []
          },
          "execution_count": 142
        }
      ]
    },
    {
      "cell_type": "code",
      "metadata": {
        "id": "4Pq1v_3wJUno",
        "colab_type": "code",
        "colab": {},
        "outputId": "dd976a53-c16d-425f-cd8d-0f4985455f2d"
      },
      "source": [
        "df['time'].unique()"
      ],
      "execution_count": null,
      "outputs": [
        {
          "output_type": "execute_result",
          "data": {
            "text/plain": [
              "[Dinner, Lunch]\n",
              "Categories (2, object): [Dinner, Lunch]"
            ]
          },
          "metadata": {
            "tags": []
          },
          "execution_count": 143
        }
      ]
    },
    {
      "cell_type": "code",
      "metadata": {
        "id": "A28ACax8JUnr",
        "colab_type": "code",
        "colab": {},
        "outputId": "764a9db8-8f14-40cd-928b-1a3d9caf9776"
      },
      "source": [
        "sunday = len(df[(df['day'] == 'Sun') & (df['time'] =='Lunch')])\n",
        "thursday = len(df[(df['day'] == 'Thur') & (df['time'] =='Lunch')])\n",
        "friday = len(df[(df['day'] == 'Fri') & (df['time'] =='Lunch')])\n",
        "sat = len(df[(df['day'] == 'Sat') & (df['time'] =='Lunch')])\n",
        "\n",
        "print('Amount of lunch on Sunday = ', sunday)\n",
        "print('Amount of lunch on Thur = ', thursday)\n",
        "print('Amount of lunch on Fri = ', friday)\n",
        "print('Amount of lunch on Saturday = ', sat)"
      ],
      "execution_count": null,
      "outputs": [
        {
          "output_type": "stream",
          "text": [
            "Amount of lunch on Sunday =  0\n",
            "Amount of lunch on Thur =  61\n",
            "Amount of lunch on Fri =  7\n",
            "Amount of lunch on Saturday =  0\n"
          ],
          "name": "stdout"
        }
      ]
    },
    {
      "cell_type": "code",
      "metadata": {
        "id": "QYYQWsEVJUnt",
        "colab_type": "code",
        "colab": {},
        "outputId": "a1c584e6-6c74-4366-d9b7-d6594747aca6"
      },
      "source": [
        "sunday = len(df[(df['day'] == 'Sun') & (df['time'] =='Dinner')])\n",
        "thursday = len(df[(df['day'] == 'Thur') & (df['time'] =='Dinner')])\n",
        "friday = len(df[(df['day'] == 'Fri') & (df['time'] =='Dinner')])\n",
        "sat = len(df[(df['day'] == 'Sat') & (df['time'] =='Dinner')])\n",
        "\n",
        "print('Amount of Dinner on Sunday = ', sunday)\n",
        "print('Amount of Dinner on Thur = ', thursday)\n",
        "print('Amount of Dinner on Fri = ', friday)\n",
        "print('Amount of Dinner on Saturday = ', sat)"
      ],
      "execution_count": null,
      "outputs": [
        {
          "output_type": "stream",
          "text": [
            "Amount of Dinner on Sunday =  76\n",
            "Amount of Dinner on Thur =  1\n",
            "Amount of Dinner on Fri =  12\n",
            "Amount of Dinner on Saturday =  87\n"
          ],
          "name": "stdout"
        }
      ]
    },
    {
      "cell_type": "code",
      "metadata": {
        "id": "75UAYDceJUnw",
        "colab_type": "code",
        "colab": {},
        "outputId": "1a5ad152-0e76-4486-8855-801b98ee2812"
      },
      "source": [
        "## other solution\n",
        "day = df['day'].values\n",
        "time = df['time'].values\n",
        "join = zip(day,time)\n",
        "\n",
        "\n",
        "count_sun = 0\n",
        "count_fri = 0\n",
        "count_thur = 0\n",
        "count_sat = 0\n",
        "\n",
        "count_sun_dinner = 0\n",
        "count_fri_dinner = 0\n",
        "count_thur_dinner = 0\n",
        "count_sat_dinner = 0\n",
        "for d,t in join:\n",
        "    if (d == 'Sun') & (t =='Lunch'):\n",
        "        count_sun += 1\n",
        "    elif (d == 'Thur') & (t =='Lunch'):\n",
        "        count_thur += 1\n",
        "    elif (d == 'Fri') & (t =='Lunch'):\n",
        "        count_fri += 1\n",
        "    elif (d == 'Sat') & (t =='Lunch'):\n",
        "        count_sat += 1\n",
        "    elif (d == 'Sun') & (t =='Dinner'):\n",
        "        count_sun_dinner += 1\n",
        "    elif (d == 'Thur') & (t =='Dinner'):\n",
        "        count_thur_dinner += 1\n",
        "    elif (d == 'Fri') & (t =='Dinner'):\n",
        "        count_fri_dinner += 1\n",
        "    elif (d == 'Sat') & (t =='Dinner'):\n",
        "        count_sat_dinner += 1\n",
        "    \n",
        "\n",
        "print('Amount of lunch on Sunday = ', count_sun)\n",
        "print('Amount of lunch on Thur = ', count_fri)\n",
        "print('Amount of lunch on Fri = ', count_thur)\n",
        "print('Amount of lunch on Saturday = ', count_sat)\n",
        "print('=========================================')\n",
        "print('Amount of Dinner on Sunday = ', count_sun_dinner)\n",
        "print('Amount of Dinner on Thur = ', count_thur_dinner)\n",
        "print('Amount of Dinner on Fri = ', count_fri_dinner)\n",
        "print('Amount of Dinner on Saturday = ', count_sat_dinner)\n",
        "    "
      ],
      "execution_count": null,
      "outputs": [
        {
          "output_type": "stream",
          "text": [
            "Amount of lunch on Sunday =  0\n",
            "Amount of lunch on Thur =  7\n",
            "Amount of lunch on Fri =  61\n",
            "Amount of lunch on Saturday =  0\n",
            "=========================================\n",
            "Amount of Dinner on Sunday =  76\n",
            "Amount of Dinner on Thur =  1\n",
            "Amount of Dinner on Fri =  12\n",
            "Amount of Dinner on Saturday =  87\n"
          ],
          "name": "stdout"
        }
      ]
    },
    {
      "cell_type": "markdown",
      "metadata": {
        "id": "aacQvTNPJUny",
        "colab_type": "text"
      },
      "source": [
        "2. I assume that this data is weekly, and the number of subscribers is calculated from the size column"
      ]
    },
    {
      "cell_type": "code",
      "metadata": {
        "id": "Gs1uNlsjJUnz",
        "colab_type": "code",
        "colab": {},
        "outputId": "a590367d-487d-4148-9d21-0b729fa80aeb"
      },
      "source": [
        "sunday = df[(df['day'] == 'Sun') & (df['time'] =='Lunch')]['size'].sum()\n",
        "thursday = df[(df['day'] == 'Thur') & (df['time'] =='Lunch')]['size'].sum()\n",
        "friday = df[(df['day'] == 'Fri') & (df['time'] =='Lunch')]['size'].sum()\n",
        "sat = df[(df['day'] == 'Sat') & (df['time'] =='Lunch')]['size'].sum()\n",
        "\n",
        "print('Amount of lunch on Sunday = ', sunday)\n",
        "print('Amount of lunch on Thur = ', thursday)\n",
        "print('Amount of lunch on Fri = ', friday)\n",
        "print('Amount of lunch on Saturday = ', sat)"
      ],
      "execution_count": null,
      "outputs": [
        {
          "output_type": "stream",
          "text": [
            "Amount of lunch on Sunday =  0\n",
            "Amount of lunch on Thur =  150\n",
            "Amount of lunch on Fri =  14\n",
            "Amount of lunch on Saturday =  0\n"
          ],
          "name": "stdout"
        }
      ]
    },
    {
      "cell_type": "code",
      "metadata": {
        "id": "GnPCkLBiJUn1",
        "colab_type": "code",
        "colab": {},
        "outputId": "b996a4fd-b014-4b76-8157-a193419a108b"
      },
      "source": [
        "sunday = df[(df['day'] == 'Sun') & (df['time'] =='Dinner')]['size'].sum()\n",
        "thursday = df[(df['day'] == 'Thur') & (df['time'] =='Dinner')]['size'].sum()\n",
        "friday = df[(df['day'] == 'Fri') & (df['time'] =='Dinner')]['size'].sum()\n",
        "sat = df[(df['day'] == 'Sat') & (df['time'] =='Dinner')]['size'].sum()\n",
        "\n",
        "print('Amount of Dinner on Sunday = ', sunday)\n",
        "print('Amount of Dinner on Thur = ', thursday)\n",
        "print('Amount of Dinner on Fri = ', friday)\n",
        "print('Amount of Dinner on Saturday = ', sat)"
      ],
      "execution_count": null,
      "outputs": [
        {
          "output_type": "stream",
          "text": [
            "Amount of Dinner on Sunday =  216\n",
            "Amount of Dinner on Thur =  2\n",
            "Amount of Dinner on Fri =  26\n",
            "Amount of Dinner on Saturday =  219\n"
          ],
          "name": "stdout"
        }
      ]
    },
    {
      "cell_type": "code",
      "metadata": {
        "id": "BAmofqGJJUn3",
        "colab_type": "code",
        "colab": {},
        "outputId": "089c47e2-21ef-47ca-8245-9bfdb824a776"
      },
      "source": [
        "data = df['size'].sum()\n",
        "print(data)"
      ],
      "execution_count": null,
      "outputs": [
        {
          "output_type": "stream",
          "text": [
            "627\n"
          ],
          "name": "stdout"
        }
      ]
    }
  ]
}